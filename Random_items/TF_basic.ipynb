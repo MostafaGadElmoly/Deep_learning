{
 "cells": [
  {
   "cell_type": "code",
   "execution_count": 9,
   "metadata": {},
   "outputs": [],
   "source": [
    "import tensorflow as tf\n",
    "import numpy as np"
   ]
  },
  {
   "cell_type": "markdown",
   "metadata": {},
   "source": [
    "Starting with the basic concepts of TF"
   ]
  },
  {
   "cell_type": "code",
   "execution_count": 10,
   "metadata": {},
   "outputs": [
    {
     "name": "stdout",
     "output_type": "stream",
     "text": [
      "tf.Tensor(4, shape=(), dtype=int32)\n"
     ]
    }
   ],
   "source": [
    "tensor_zero_d = tf.constant(4)\n",
    "print(tensor_zero_d)"
   ]
  },
  {
   "cell_type": "code",
   "execution_count": 11,
   "metadata": {},
   "outputs": [],
   "source": [
    "tensor_bool = tf.constant([True, True, False])\n"
   ]
  },
  {
   "cell_type": "code",
   "execution_count": 12,
   "metadata": {},
   "outputs": [
    {
     "name": "stdout",
     "output_type": "stream",
     "text": [
      "tf.Tensor([ True False  True  True], shape=(4,), dtype=bool)\n"
     ]
    }
   ],
   "source": [
    "tensor_one_d  = tf.constant([2.,0.,5.,6.], dtype=tf.float16)\n",
    "casted_tensor = tf.cast(tensor_one_d,dtype=tf.bool)\n",
    "print(casted_tensor)"
   ]
  },
  {
   "cell_type": "code",
   "execution_count": 13,
   "metadata": {},
   "outputs": [
    {
     "name": "stdout",
     "output_type": "stream",
     "text": [
      "tf.Tensor(\n",
      "[[1 2 3]\n",
      " [3 4 5]\n",
      " [5 6 7]], shape=(3, 3), dtype=int32)\n"
     ]
    }
   ],
   "source": [
    "tensor_two_d = tf.constant([\n",
    "    [1,2,3],\n",
    "    [3,4,5],\n",
    "    [5,6,7],\n",
    "])\n",
    "print(tensor_two_d)"
   ]
  },
  {
   "cell_type": "code",
   "execution_count": 14,
   "metadata": {},
   "outputs": [
    {
     "name": "stdout",
     "output_type": "stream",
     "text": [
      "(3, 2, 3)\n"
     ]
    }
   ],
   "source": [
    "tensor_three_d = tf.constant([\n",
    "[[1,2,3],\n",
    "[3,4,5]],\n",
    "\n",
    "[[1,2,3],\n",
    "[3,4,5]],\n",
    "\n",
    "[[1,2,3],\n",
    "[3,4,5]],\n",
    "\n",
    "])\n",
    "print(tensor_three_d.shape)\n"
   ]
  },
  {
   "cell_type": "code",
   "execution_count": 15,
   "metadata": {},
   "outputs": [],
   "source": [
    "four_d_tensor = tf.constant([\n",
    "#First layer \n",
    "[\n",
    "    [1,2,3],\n",
    "    [3,4,5],\n",
    "    [5,6,7],\n",
    "],\n",
    "[\n",
    "    [1,2,3],\n",
    "    [3,4,5],\n",
    "    [5,6,7],\n",
    "]]\n",
    ")"
   ]
  },
  {
   "cell_type": "code",
   "execution_count": 16,
   "metadata": {},
   "outputs": [],
   "source": [
    "np_array = np.array([13 ,46 ,7])\n",
    "converted_tensor = tf.convert_to_tensor(np_array)"
   ]
  },
  {
   "cell_type": "code",
   "execution_count": 17,
   "metadata": {},
   "outputs": [],
   "source": [
    "eye_tensor = tf.eye(\n",
    "    num_rows = 5,\n",
    "    num_columns=5,\n",
    "    batch_shape=[2,4],\n",
    "    dtype=tf.dtypes.bfloat16,\n",
    "    name=\"eye\"\n",
    ")\n"
   ]
  },
  {
   "cell_type": "code",
   "execution_count": 18,
   "metadata": {},
   "outputs": [],
   "source": [
    "fill_tensor =tf.fill([5,3,6],9)\n",
    "\n",
    "ones_like = tf.ones_like (\n",
    "fill_tensor\n",
    ")"
   ]
  },
  {
   "cell_type": "code",
   "execution_count": 19,
   "metadata": {},
   "outputs": [
    {
     "data": {
      "text/plain": [
       "<tf.Tensor: shape=(), dtype=int32, numpy=90>"
      ]
     },
     "execution_count": 19,
     "metadata": {},
     "output_type": "execute_result"
    }
   ],
   "source": [
    "tensor_rank = tf.size(fill_tensor)\n",
    "tensor_rank \n"
   ]
  },
  {
   "cell_type": "code",
   "execution_count": 20,
   "metadata": {},
   "outputs": [
    {
     "data": {
      "text/plain": [
       "<tf.Tensor: shape=(3, 4), dtype=float32, numpy=\n",
       "array([[-2.3561656 , -1.4198828 , -3.496316  , -0.9907444 ],\n",
       "       [ 0.48607776, -0.25262603, -1.3278574 , -0.99039674],\n",
       "       [-1.7878686 , -3.593185  ,  0.8177471 , -2.403319  ]],\n",
       "      dtype=float32)>"
      ]
     },
     "execution_count": 20,
     "metadata": {},
     "output_type": "execute_result"
    }
   ],
   "source": [
    "reandowm_tensor = tf.random.normal(\n",
    "    [3,4],\n",
    "    mean=0.0,\n",
    "    stddev=2.0,\n",
    "    seed= 5\n",
    ")\n",
    "reandowm_tensor"
   ]
  },
  {
   "cell_type": "code",
   "execution_count": 21,
   "metadata": {},
   "outputs": [
    {
     "data": {
      "text/plain": [
       "<tf.Tensor: shape=(3, 5), dtype=float32, numpy=\n",
       "array([[2.9434557, 4.114506 , 6.421711 , 3.5391302, 3.3483782],\n",
       "       [5.247649 , 6.435074 , 6.487338 , 3.1533813, 1.0172627],\n",
       "       [3.8688726, 2.972269 , 2.3446417, 7.494789 , 1.1592685]],\n",
       "      dtype=float32)>"
      ]
     },
     "execution_count": 21,
     "metadata": {},
     "output_type": "execute_result"
    }
   ],
   "source": [
    "rend_uniform = tf.random.uniform(\n",
    "    [3,5],\n",
    "    maxval=10,\n",
    "    minval=1,\n",
    ")\n",
    "rend_uniform"
   ]
  },
  {
   "cell_type": "code",
   "execution_count": 22,
   "metadata": {},
   "outputs": [
    {
     "name": "stdout",
     "output_type": "stream",
     "text": [
      "tf.Tensor([ 1 24 56 78  9  5 66], shape=(7,), dtype=int32)\n",
      "tf.Tensor([66], shape=(1,), dtype=int32)\n"
     ]
    }
   ],
   "source": [
    "tensor_index = tf.constant([1, 24, 56, 78 ,9, 5,66])\n",
    "print(tensor_index)\n",
    "print(tensor_index[-1::])\n"
   ]
  },
  {
   "cell_type": "code",
   "execution_count": 23,
   "metadata": {},
   "outputs": [
    {
     "name": "stdout",
     "output_type": "stream",
     "text": [
      "tf.Tensor([1 3 5], shape=(3,), dtype=int32)\n"
     ]
    }
   ],
   "source": [
    "tensor_two_d = tf.constant([\n",
    "    [1,2,3],\n",
    "    [3,4,5],\n",
    "    [5,6,7],\n",
    "])\n",
    "\n",
    "print(tensor_two_d[..., 0])"
   ]
  },
  {
   "cell_type": "code",
   "execution_count": 24,
   "metadata": {},
   "outputs": [
    {
     "name": "stdout",
     "output_type": "stream",
     "text": [
      "tf.Tensor([1 3], shape=(2,), dtype=int32)\n"
     ]
    }
   ],
   "source": [
    "four_d_tensor = tf.constant([\n",
    "#First layer \n",
    "[\n",
    "    [1,2,3],\n",
    "    [3,4,5],\n",
    "    [5,6,7],\n",
    "],\n",
    "[\n",
    "    [1,2,3],\n",
    "    [3,4,5],\n",
    "    [5,6,7],\n",
    "]]\n",
    ")\n",
    "print(tensor_three_d[0,...,0])"
   ]
  },
  {
   "cell_type": "code",
   "execution_count": 25,
   "metadata": {},
   "outputs": [
    {
     "name": "stdout",
     "output_type": "stream",
     "text": [
      "tf.Tensor([2.25 3.25], shape=(2,), dtype=float32)\n"
     ]
    }
   ],
   "source": [
    "x_abs = tf.constant([-2.25,3.25])\n",
    "print(tf.abs(x_abs))"
   ]
  },
  {
   "cell_type": "code",
   "execution_count": 26,
   "metadata": {},
   "outputs": [
    {
     "name": "stdout",
     "output_type": "stream",
     "text": [
      "tf.Tensor([3.95284708], shape=(1,), dtype=float64)\n"
     ]
    }
   ],
   "source": [
    "x_abs_comp = tf.constant([-2.25 +3.25j])\n",
    "print(tf.abs(x_abs_comp))\n",
    "\n"
   ]
  },
  {
   "cell_type": "code",
   "execution_count": 27,
   "metadata": {},
   "outputs": [
    {
     "name": "stdout",
     "output_type": "stream",
     "text": [
      "tf.Tensor([ 3.75 26.5 ], shape=(2,), dtype=float32)\n"
     ]
    }
   ],
   "source": [
    "x_1 = tf.constant([-2.25,3.25])\n",
    "x_2 = tf.constant([6,23.25])\n",
    "print(tf.add(x_1,x_2))"
   ]
  },
  {
   "cell_type": "code",
   "execution_count": 28,
   "metadata": {},
   "outputs": [
    {
     "name": "stdout",
     "output_type": "stream",
     "text": [
      "tf.Tensor(\n",
      "[[1 1 1 0 2 2]\n",
      " [1 1 2 0 2 2]], shape=(2, 6), dtype=int64)\n"
     ]
    }
   ],
   "source": [
    "x_args = tf.constant([[[2, 3, 4, 5, 6,7],\n",
    "                      [5, 6, 22, 4, 5,6],\n",
    "                      [1 ,2 ,4, 5, 9, 71]\n",
    "],\n",
    "[                     [2, 3, 4, 5, 6,7],\n",
    "                      [5, 6, 22, 4, 5,6],\n",
    "                      [1 ,2 ,102, 5, 9, 71]\n",
    "]\n",
    "\n",
    "])\n",
    "print(tf.argmax(x_args,1))"
   ]
  },
  {
   "cell_type": "code",
   "execution_count": 29,
   "metadata": {},
   "outputs": [
    {
     "name": "stdout",
     "output_type": "stream",
     "text": [
      "tf.Tensor([ 4  8 15], shape=(3,), dtype=int32)\n"
     ]
    }
   ],
   "source": [
    "power = tf.constant([[2, 3, 4, 5, 6,7],\n",
    "                      [5, 6, 22, 4, 5,6],\n",
    "                      [1 ,2 ,4, 5, 9, 71]\n",
    "])\n",
    "#print(tf.pow(power,2))\n",
    "print(tf.reduce_mean(power,axis=1,keepdims=False))"
   ]
  },
  {
   "cell_type": "code",
   "execution_count": 30,
   "metadata": {},
   "outputs": [
    {
     "name": "stdout",
     "output_type": "stream",
     "text": [
      "TopKV2(values=<tf.Tensor: shape=(3, 2), dtype=int32, numpy=\n",
      "array([[ 7,  6],\n",
      "       [22,  6],\n",
      "       [71,  9]], dtype=int32)>, indices=<tf.Tensor: shape=(3, 2), dtype=int32, numpy=\n",
      "array([[5, 4],\n",
      "       [2, 1],\n",
      "       [5, 4]], dtype=int32)>)\n"
     ]
    }
   ],
   "source": [
    "print(tf.math.top_k(power, k=2))"
   ]
  },
  {
   "cell_type": "code",
   "execution_count": 31,
   "metadata": {},
   "outputs": [
    {
     "data": {
      "text/plain": [
       "<tf.Tensor: shape=(2, 2), dtype=float32, numpy=\n",
       "array([[-20.8125, -41.75  ],\n",
       "       [-16.3125, 215.0625]], dtype=float32)>"
      ]
     },
     "execution_count": 31,
     "metadata": {},
     "output_type": "execute_result"
    }
   ],
   "source": [
    "x_1 = tf.constant([[-2.25,3.25],\n",
    "                   [6,23.25]])\n",
    "\n",
    "x_2 = tf.constant([[6,23.25],\n",
    "                   [-2.25,3.25]])\n",
    "tf.linalg.matmul(x_1,x_2)\n"
   ]
  },
  {
   "cell_type": "code",
   "execution_count": 32,
   "metadata": {},
   "outputs": [
    {
     "data": {
      "text/plain": [
       "<tf.Tensor: shape=(4,), dtype=int32, numpy=array([1, 2, 3, 4], dtype=int32)>"
      ]
     },
     "execution_count": 32,
     "metadata": {},
     "output_type": "execute_result"
    }
   ],
   "source": [
    "#transpose \n",
    "V = tf.constant([1, 2 ,3 ,4])\n",
    "tf.transpose(V)\n"
   ]
  },
  {
   "cell_type": "code",
   "execution_count": 33,
   "metadata": {},
   "outputs": [
    {
     "name": "stdout",
     "output_type": "stream",
     "text": [
      "(3, 3)\n",
      "(3, 3)\n",
      "[[ 30  24  18]\n",
      " [ 84  69  54]\n",
      " [138 114  90]]\n"
     ]
    }
   ],
   "source": [
    "A = np.array([[1, 2, 3],\n",
    "              [4, 5, 6],\n",
    "              [7, 8, 9]])\n",
    "\n",
    "B = np.array([[9, 8, 7],\n",
    "              [6, 5, 4],\n",
    "              [3, 2, 1]])\n",
    "\n",
    "\n",
    "print(A.shape)\n",
    "print(B.shape)\n",
    "\n",
    "print(np.matmul(A,B))\n"
   ]
  },
  {
   "cell_type": "code",
   "execution_count": 34,
   "metadata": {},
   "outputs": [
    {
     "name": "stdout",
     "output_type": "stream",
     "text": [
      "[[ 30  24  18]\n",
      " [ 84  69  54]\n",
      " [138 114  90]]\n"
     ]
    }
   ],
   "source": [
    "print(np.einsum('ij,jk -> ik', A,B))"
   ]
  },
  {
   "cell_type": "code",
   "execution_count": 35,
   "metadata": {},
   "outputs": [
    {
     "name": "stdout",
     "output_type": "stream",
     "text": [
      "[[ 9 16 21]\n",
      " [24 25 24]\n",
      " [21 16  9]]\n"
     ]
    }
   ],
   "source": [
    "A = np.array([[1, 2, 3],\n",
    "              [4, 5, 6],\n",
    "              [7, 8, 9]])\n",
    "\n",
    "B = np.array([[9, 8, 7],\n",
    "              [6, 5, 4],\n",
    "              [3, 2, 1]])\n",
    "print(np.einsum(\"ij,ij -> ij\", A, B))\n"
   ]
  },
  {
   "cell_type": "code",
   "execution_count": 37,
   "metadata": {},
   "outputs": [
    {
     "name": "stdout",
     "output_type": "stream",
     "text": [
      "(2, 3, 4)\n",
      "[[[1 4 7]\n",
      "  [2 5 8]\n",
      "  [3 6 9]\n",
      "  [5 7 7]]\n",
      "\n",
      " [[1 4 7]\n",
      "  [2 5 8]\n",
      "  [3 6 9]\n",
      "  [5 7 7]]]\n"
     ]
    }
   ],
   "source": [
    "A = np.array([\n",
    "             [[1, 2, 3, 5],\n",
    "              [4, 5, 6, 7],\n",
    "              [7, 8, 9, 7]],\n",
    "\n",
    "              [[1, 2, 3, 5],\n",
    "              [4, 5, 6, 7],\n",
    "              [7, 8, 9, 7]]\n",
    "              ])\n",
    "print(np.shape(A))\n",
    "trns = np.einsum('bij -> bji', A)\n",
    "\n",
    "print(trns)\n"
   ]
  },
  {
   "cell_type": "code",
   "execution_count": null,
   "metadata": {},
   "outputs": [],
   "source": [
    "A = np.array([[1, 2, 3],\n",
    "              [4, 5, 6],\n",
    "              [7, 8, 9]])\n",
    "\n",
    "print(np.einsum())"
   ]
  },
  {
   "cell_type": "code",
   "execution_count": 39,
   "metadata": {},
   "outputs": [
    {
     "data": {
      "text/plain": [
       "(2, 4, 1, 2)"
      ]
     },
     "execution_count": 39,
     "metadata": {},
     "output_type": "execute_result"
    }
   ],
   "source": [
    "A = np.random.randn(2,4,4,2) # bcij\n",
    "B = np.random.randn(2,4,4,1) # bcik\n",
    "np.einsum(\"bcik,bcij -> bckj\", B , A).shape \n"
   ]
  },
  {
   "cell_type": "code",
   "execution_count": null,
   "metadata": {},
   "outputs": [],
   "source": []
  }
 ],
 "metadata": {
  "kernelspec": {
   "display_name": "Python 3",
   "language": "python",
   "name": "python3"
  },
  "language_info": {
   "codemirror_mode": {
    "name": "ipython",
    "version": 3
   },
   "file_extension": ".py",
   "mimetype": "text/x-python",
   "name": "python",
   "nbconvert_exporter": "python",
   "pygments_lexer": "ipython3",
   "version": "3.12.2"
  }
 },
 "nbformat": 4,
 "nbformat_minor": 2
}
