{
 "cells": [
  {
   "cell_type": "code",
   "execution_count": 32,
   "metadata": {},
   "outputs": [],
   "source": [
    "import tensorflow as tf\n",
    "import numpy as np"
   ]
  },
  {
   "cell_type": "markdown",
   "metadata": {},
   "source": [
    "Starting with the basic concepts of TF"
   ]
  },
  {
   "cell_type": "code",
   "execution_count": 33,
   "metadata": {},
   "outputs": [
    {
     "name": "stdout",
     "output_type": "stream",
     "text": [
      "tf.Tensor(4, shape=(), dtype=int32)\n"
     ]
    }
   ],
   "source": [
    "tensor_zero_d = tf.constant(4)\n",
    "print(tensor_zero_d)"
   ]
  },
  {
   "cell_type": "code",
   "execution_count": 34,
   "metadata": {},
   "outputs": [],
   "source": [
    "tensor_bool = tf.constant([True, True, False])\n"
   ]
  },
  {
   "cell_type": "code",
   "execution_count": 35,
   "metadata": {},
   "outputs": [
    {
     "name": "stdout",
     "output_type": "stream",
     "text": [
      "tf.Tensor([ True False  True  True], shape=(4,), dtype=bool)\n"
     ]
    }
   ],
   "source": [
    "tensor_one_d  = tf.constant([2.,0.,5.,6.], dtype=tf.float16)\n",
    "casted_tensor = tf.cast(tensor_one_d,dtype=tf.bool)\n",
    "print(casted_tensor)"
   ]
  },
  {
   "cell_type": "code",
   "execution_count": 36,
   "metadata": {},
   "outputs": [
    {
     "name": "stdout",
     "output_type": "stream",
     "text": [
      "tf.Tensor(\n",
      "[[1 2 3]\n",
      " [3 4 5]\n",
      " [5 6 7]], shape=(3, 3), dtype=int32)\n"
     ]
    }
   ],
   "source": [
    "tensor_two_d = tf.constant([\n",
    "    [1,2,3],\n",
    "    [3,4,5],\n",
    "    [5,6,7],\n",
    "])\n",
    "print(tensor_two_d)"
   ]
  },
  {
   "cell_type": "code",
   "execution_count": 37,
   "metadata": {},
   "outputs": [
    {
     "name": "stdout",
     "output_type": "stream",
     "text": [
      "(3, 2, 3)\n"
     ]
    }
   ],
   "source": [
    "tensor_three_d = tf.constant([\n",
    "[[1,2,3],\n",
    "[3,4,5]],\n",
    "\n",
    "[[1,2,3],\n",
    "[3,4,5]],\n",
    "\n",
    "[[1,2,3],\n",
    "[3,4,5]],\n",
    "\n",
    "])\n",
    "print(tensor_three_d.shape)\n"
   ]
  },
  {
   "cell_type": "code",
   "execution_count": 38,
   "metadata": {},
   "outputs": [],
   "source": [
    "four_d_tensor = tf.constant([\n",
    "#First layer \n",
    "[\n",
    "    [1,2,3],\n",
    "    [3,4,5],\n",
    "    [5,6,7],\n",
    "],\n",
    "[\n",
    "    [1,2,3],\n",
    "    [3,4,5],\n",
    "    [5,6,7],\n",
    "]]\n",
    ")"
   ]
  },
  {
   "cell_type": "code",
   "execution_count": 41,
   "metadata": {},
   "outputs": [],
   "source": [
    "np_array = np.array([13 ,46 ,7])\n",
    "converted_tensor = tf.convert_to_tensor(np_array)"
   ]
  },
  {
   "cell_type": "code",
   "execution_count": 49,
   "metadata": {},
   "outputs": [],
   "source": [
    "eye_tensor = tf.eye(\n",
    "    num_rows = 5,\n",
    "    num_columns=5,\n",
    "    batch_shape=[2,4],\n",
    "    dtype=tf.dtypes.bfloat16,\n",
    "    name=\"eye\"\n",
    ")\n"
   ]
  },
  {
   "cell_type": "code",
   "execution_count": 55,
   "metadata": {},
   "outputs": [],
   "source": [
    "fill_tensor =tf.fill([5,3,6],9)\n",
    "\n",
    "ones_like = tf.ones_like (\n",
    "fill_tensor\n",
    ")"
   ]
  },
  {
   "cell_type": "code",
   "execution_count": 59,
   "metadata": {},
   "outputs": [
    {
     "data": {
      "text/plain": [
       "<tf.Tensor: shape=(), dtype=int32, numpy=90>"
      ]
     },
     "execution_count": 59,
     "metadata": {},
     "output_type": "execute_result"
    }
   ],
   "source": [
    "tensor_rank = tf.size(fill_tensor)\n",
    "tensor_rank \n"
   ]
  },
  {
   "cell_type": "code",
   "execution_count": 63,
   "metadata": {},
   "outputs": [
    {
     "data": {
      "text/plain": [
       "<tf.Tensor: shape=(3, 4), dtype=float32, numpy=\n",
       "array([[-2.3561656 , -1.4198828 , -3.496316  , -0.9907444 ],\n",
       "       [ 0.48607776, -0.25262603, -1.3278574 , -0.99039674],\n",
       "       [-1.7878686 , -3.593185  ,  0.8177471 , -2.403319  ]],\n",
       "      dtype=float32)>"
      ]
     },
     "execution_count": 63,
     "metadata": {},
     "output_type": "execute_result"
    }
   ],
   "source": [
    "reandowm_tensor = tf.random.normal(\n",
    "    [3,4],\n",
    "    mean=0.0,\n",
    "    stddev=2.0,\n",
    "    seed= 5\n",
    ")\n",
    "reandowm_tensor"
   ]
  },
  {
   "cell_type": "code",
   "execution_count": 70,
   "metadata": {},
   "outputs": [
    {
     "data": {
      "text/plain": [
       "<tf.Tensor: shape=(3, 5), dtype=float32, numpy=\n",
       "array([[1.2656835, 7.2408085, 2.997202 , 2.5689743, 6.51355  ],\n",
       "       [9.565785 , 1.1287364, 5.7692747, 8.851347 , 6.408728 ],\n",
       "       [7.290221 , 7.3349237, 7.2926073, 8.046528 , 1.3142079]],\n",
       "      dtype=float32)>"
      ]
     },
     "execution_count": 70,
     "metadata": {},
     "output_type": "execute_result"
    }
   ],
   "source": [
    "rend_uniform = tf.random.uniform(\n",
    "    [3,5],\n",
    "    maxval=10,\n",
    "    minval=1,\n",
    ")\n",
    "rend_uniform"
   ]
  },
  {
   "cell_type": "code",
   "execution_count": null,
   "metadata": {},
   "outputs": [
    {
     "name": "stdout",
     "output_type": "stream",
     "text": [
      "tf.Tensor([ 1 24 56 78  9  5 66], shape=(7,), dtype=int32)\n",
      "tf.Tensor([66], shape=(1,), dtype=int32)\n"
     ]
    }
   ],
   "source": [
    "tensor_index = tf.constant([1, 24, 56, 78 ,9, 5,66])\n",
    "print(tensor_index)\n",
    "print(tensor_index[-1::])\n"
   ]
  },
  {
   "cell_type": "code",
   "execution_count": 93,
   "metadata": {},
   "outputs": [
    {
     "name": "stdout",
     "output_type": "stream",
     "text": [
      "tf.Tensor([1 3 5], shape=(3,), dtype=int32)\n"
     ]
    }
   ],
   "source": [
    "tensor_two_d = tf.constant([\n",
    "    [1,2,3],\n",
    "    [3,4,5],\n",
    "    [5,6,7],\n",
    "])\n",
    "\n",
    "print(tensor_two_d[..., 0])"
   ]
  },
  {
   "cell_type": "code",
   "execution_count": 101,
   "metadata": {},
   "outputs": [
    {
     "name": "stdout",
     "output_type": "stream",
     "text": [
      "tf.Tensor([1 3], shape=(2,), dtype=int32)\n"
     ]
    }
   ],
   "source": [
    "four_d_tensor = tf.constant([\n",
    "#First layer \n",
    "[\n",
    "    [1,2,3],\n",
    "    [3,4,5],\n",
    "    [5,6,7],\n",
    "],\n",
    "[\n",
    "    [1,2,3],\n",
    "    [3,4,5],\n",
    "    [5,6,7],\n",
    "]]\n",
    ")\n",
    "print(tensor_three_d[0,...,0])"
   ]
  },
  {
   "cell_type": "code",
   "execution_count": 104,
   "metadata": {},
   "outputs": [
    {
     "name": "stdout",
     "output_type": "stream",
     "text": [
      "tf.Tensor([2.25 3.25], shape=(2,), dtype=float32)\n"
     ]
    }
   ],
   "source": [
    "x_abs = tf.constant([-2.25,3.25])\n",
    "print(tf.abs(x_abs))"
   ]
  },
  {
   "cell_type": "code",
   "execution_count": 106,
   "metadata": {},
   "outputs": [
    {
     "name": "stdout",
     "output_type": "stream",
     "text": [
      "tf.Tensor([3.95284708], shape=(1,), dtype=float64)\n"
     ]
    }
   ],
   "source": [
    "x_abs_comp = tf.constant([-2.25 +3.25j])\n",
    "print(tf.abs(x_abs_comp))\n",
    "\n"
   ]
  },
  {
   "cell_type": "code",
   "execution_count": 108,
   "metadata": {},
   "outputs": [
    {
     "name": "stdout",
     "output_type": "stream",
     "text": [
      "tf.Tensor([ 3.75 26.5 ], shape=(2,), dtype=float32)\n"
     ]
    }
   ],
   "source": [
    "x_1 = tf.constant([-2.25,3.25])\n",
    "x_2 = tf.constant([6,23.25])\n",
    "print(tf.add(x_1,x_2))"
   ]
  },
  {
   "cell_type": "code",
   "execution_count": 118,
   "metadata": {},
   "outputs": [
    {
     "name": "stdout",
     "output_type": "stream",
     "text": [
      "tf.Tensor(\n",
      "[[1 1 1 0 2 2]\n",
      " [1 1 2 0 2 2]], shape=(2, 6), dtype=int64)\n"
     ]
    }
   ],
   "source": [
    "x_args = tf.constant([[[2, 3, 4, 5, 6,7],\n",
    "                      [5, 6, 22, 4, 5,6],\n",
    "                      [1 ,2 ,4, 5, 9, 71]\n",
    "],\n",
    "[                     [2, 3, 4, 5, 6,7],\n",
    "                      [5, 6, 22, 4, 5,6],\n",
    "                      [1 ,2 ,102, 5, 9, 71]\n",
    "]\n",
    "\n",
    "])\n",
    "print(tf.argmax(x_args,1))"
   ]
  },
  {
   "cell_type": "code",
   "execution_count": null,
   "metadata": {},
   "outputs": [],
   "source": [
    "power = tf.constant([[2, 3, 4, 5, 6,7],\n",
    "                      [5, 6, 22, 4, 5,6],\n",
    "                      [1 ,2 ,4, 5, 9, 71]\n",
    "])\n",
    "print(x_pow = tf.pow(power,2))"
   ]
  }
 ],
 "metadata": {
  "kernelspec": {
   "display_name": "Python 3",
   "language": "python",
   "name": "python3"
  },
  "language_info": {
   "codemirror_mode": {
    "name": "ipython",
    "version": 3
   },
   "file_extension": ".py",
   "mimetype": "text/x-python",
   "name": "python",
   "nbconvert_exporter": "python",
   "pygments_lexer": "ipython3",
   "version": "3.12.2"
  }
 },
 "nbformat": 4,
 "nbformat_minor": 2
}
