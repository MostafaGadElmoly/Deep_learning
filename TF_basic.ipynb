{
 "cells": [
  {
   "cell_type": "code",
   "execution_count": 137,
   "metadata": {},
   "outputs": [],
   "source": [
    "import tensorflow as tf\n",
    "import numpy as np"
   ]
  },
  {
   "cell_type": "markdown",
   "metadata": {},
   "source": [
    "Starting with the basic concepts of TF"
   ]
  },
  {
   "cell_type": "code",
   "execution_count": 138,
   "metadata": {},
   "outputs": [
    {
     "name": "stdout",
     "output_type": "stream",
     "text": [
      "tf.Tensor(4, shape=(), dtype=int32)\n"
     ]
    }
   ],
   "source": [
    "tensor_zero_d = tf.constant(4)\n",
    "print(tensor_zero_d)"
   ]
  },
  {
   "cell_type": "code",
   "execution_count": 139,
   "metadata": {},
   "outputs": [],
   "source": [
    "tensor_bool = tf.constant([True, True, False])\n"
   ]
  },
  {
   "cell_type": "code",
   "execution_count": 140,
   "metadata": {},
   "outputs": [
    {
     "name": "stdout",
     "output_type": "stream",
     "text": [
      "tf.Tensor([ True False  True  True], shape=(4,), dtype=bool)\n"
     ]
    }
   ],
   "source": [
    "tensor_one_d  = tf.constant([2.,0.,5.,6.], dtype=tf.float16)\n",
    "casted_tensor = tf.cast(tensor_one_d,dtype=tf.bool)\n",
    "print(casted_tensor)"
   ]
  },
  {
   "cell_type": "code",
   "execution_count": 141,
   "metadata": {},
   "outputs": [
    {
     "name": "stdout",
     "output_type": "stream",
     "text": [
      "tf.Tensor(\n",
      "[[1 2 3]\n",
      " [3 4 5]\n",
      " [5 6 7]], shape=(3, 3), dtype=int32)\n"
     ]
    }
   ],
   "source": [
    "tensor_two_d = tf.constant([\n",
    "    [1,2,3],\n",
    "    [3,4,5],\n",
    "    [5,6,7],\n",
    "])\n",
    "print(tensor_two_d)"
   ]
  },
  {
   "cell_type": "code",
   "execution_count": 142,
   "metadata": {},
   "outputs": [
    {
     "name": "stdout",
     "output_type": "stream",
     "text": [
      "(3, 2, 3)\n"
     ]
    }
   ],
   "source": [
    "tensor_three_d = tf.constant([\n",
    "[[1,2,3],\n",
    "[3,4,5]],\n",
    "\n",
    "[[1,2,3],\n",
    "[3,4,5]],\n",
    "\n",
    "[[1,2,3],\n",
    "[3,4,5]],\n",
    "\n",
    "])\n",
    "print(tensor_three_d.shape)\n"
   ]
  },
  {
   "cell_type": "code",
   "execution_count": 143,
   "metadata": {},
   "outputs": [],
   "source": [
    "four_d_tensor = tf.constant([\n",
    "#First layer \n",
    "[\n",
    "    [1,2,3],\n",
    "    [3,4,5],\n",
    "    [5,6,7],\n",
    "],\n",
    "[\n",
    "    [1,2,3],\n",
    "    [3,4,5],\n",
    "    [5,6,7],\n",
    "]]\n",
    ")"
   ]
  },
  {
   "cell_type": "code",
   "execution_count": 144,
   "metadata": {},
   "outputs": [],
   "source": [
    "np_array = np.array([13 ,46 ,7])\n",
    "converted_tensor = tf.convert_to_tensor(np_array)"
   ]
  },
  {
   "cell_type": "code",
   "execution_count": 145,
   "metadata": {},
   "outputs": [],
   "source": [
    "eye_tensor = tf.eye(\n",
    "    num_rows = 5,\n",
    "    num_columns=5,\n",
    "    batch_shape=[2,4],\n",
    "    dtype=tf.dtypes.bfloat16,\n",
    "    name=\"eye\"\n",
    ")\n"
   ]
  },
  {
   "cell_type": "code",
   "execution_count": 146,
   "metadata": {},
   "outputs": [],
   "source": [
    "fill_tensor =tf.fill([5,3,6],9)\n",
    "\n",
    "ones_like = tf.ones_like (\n",
    "fill_tensor\n",
    ")"
   ]
  },
  {
   "cell_type": "code",
   "execution_count": 147,
   "metadata": {},
   "outputs": [
    {
     "data": {
      "text/plain": [
       "<tf.Tensor: shape=(), dtype=int32, numpy=90>"
      ]
     },
     "execution_count": 147,
     "metadata": {},
     "output_type": "execute_result"
    }
   ],
   "source": [
    "tensor_rank = tf.size(fill_tensor)\n",
    "tensor_rank \n"
   ]
  },
  {
   "cell_type": "code",
   "execution_count": 148,
   "metadata": {},
   "outputs": [
    {
     "data": {
      "text/plain": [
       "<tf.Tensor: shape=(3, 4), dtype=float32, numpy=\n",
       "array([[-0.6121852,  1.978791 , -0.6452092, -4.965141 ],\n",
       "       [-1.4184582,  1.5928245, -2.5180225, -4.886535 ],\n",
       "       [ 1.0408081, -0.2988072,  1.347326 ,  0.3292156]], dtype=float32)>"
      ]
     },
     "execution_count": 148,
     "metadata": {},
     "output_type": "execute_result"
    }
   ],
   "source": [
    "reandowm_tensor = tf.random.normal(\n",
    "    [3,4],\n",
    "    mean=0.0,\n",
    "    stddev=2.0,\n",
    "    seed= 5\n",
    ")\n",
    "reandowm_tensor"
   ]
  },
  {
   "cell_type": "code",
   "execution_count": 149,
   "metadata": {},
   "outputs": [
    {
     "data": {
      "text/plain": [
       "<tf.Tensor: shape=(3, 5), dtype=float32, numpy=\n",
       "array([[4.8526597, 3.086911 , 2.0376062, 3.7489262, 5.700284 ],\n",
       "       [5.150039 , 8.209985 , 8.608425 , 4.7684574, 5.2633286],\n",
       "       [4.0471344, 7.579784 , 6.0742064, 1.0862437, 5.3953414]],\n",
       "      dtype=float32)>"
      ]
     },
     "execution_count": 149,
     "metadata": {},
     "output_type": "execute_result"
    }
   ],
   "source": [
    "rend_uniform = tf.random.uniform(\n",
    "    [3,5],\n",
    "    maxval=10,\n",
    "    minval=1,\n",
    ")\n",
    "rend_uniform"
   ]
  },
  {
   "cell_type": "code",
   "execution_count": 150,
   "metadata": {},
   "outputs": [
    {
     "name": "stdout",
     "output_type": "stream",
     "text": [
      "tf.Tensor([ 1 24 56 78  9  5 66], shape=(7,), dtype=int32)\n",
      "tf.Tensor([66], shape=(1,), dtype=int32)\n"
     ]
    }
   ],
   "source": [
    "tensor_index = tf.constant([1, 24, 56, 78 ,9, 5,66])\n",
    "print(tensor_index)\n",
    "print(tensor_index[-1::])\n"
   ]
  },
  {
   "cell_type": "code",
   "execution_count": 151,
   "metadata": {},
   "outputs": [
    {
     "name": "stdout",
     "output_type": "stream",
     "text": [
      "tf.Tensor([1 3 5], shape=(3,), dtype=int32)\n"
     ]
    }
   ],
   "source": [
    "tensor_two_d = tf.constant([\n",
    "    [1,2,3],\n",
    "    [3,4,5],\n",
    "    [5,6,7],\n",
    "])\n",
    "\n",
    "print(tensor_two_d[..., 0])"
   ]
  },
  {
   "cell_type": "code",
   "execution_count": 152,
   "metadata": {},
   "outputs": [
    {
     "name": "stdout",
     "output_type": "stream",
     "text": [
      "tf.Tensor([1 3], shape=(2,), dtype=int32)\n"
     ]
    }
   ],
   "source": [
    "four_d_tensor = tf.constant([\n",
    "#First layer \n",
    "[\n",
    "    [1,2,3],\n",
    "    [3,4,5],\n",
    "    [5,6,7],\n",
    "],\n",
    "[\n",
    "    [1,2,3],\n",
    "    [3,4,5],\n",
    "    [5,6,7],\n",
    "]]\n",
    ")\n",
    "print(tensor_three_d[0,...,0])"
   ]
  },
  {
   "cell_type": "code",
   "execution_count": 153,
   "metadata": {},
   "outputs": [
    {
     "name": "stdout",
     "output_type": "stream",
     "text": [
      "tf.Tensor([2.25 3.25], shape=(2,), dtype=float32)\n"
     ]
    }
   ],
   "source": [
    "x_abs = tf.constant([-2.25,3.25])\n",
    "print(tf.abs(x_abs))"
   ]
  },
  {
   "cell_type": "code",
   "execution_count": 154,
   "metadata": {},
   "outputs": [
    {
     "name": "stdout",
     "output_type": "stream",
     "text": [
      "tf.Tensor([3.95284708], shape=(1,), dtype=float64)\n"
     ]
    }
   ],
   "source": [
    "x_abs_comp = tf.constant([-2.25 +3.25j])\n",
    "print(tf.abs(x_abs_comp))\n",
    "\n"
   ]
  },
  {
   "cell_type": "code",
   "execution_count": 155,
   "metadata": {},
   "outputs": [
    {
     "name": "stdout",
     "output_type": "stream",
     "text": [
      "tf.Tensor([ 3.75 26.5 ], shape=(2,), dtype=float32)\n"
     ]
    }
   ],
   "source": [
    "x_1 = tf.constant([-2.25,3.25])\n",
    "x_2 = tf.constant([6,23.25])\n",
    "print(tf.add(x_1,x_2))"
   ]
  },
  {
   "cell_type": "code",
   "execution_count": 156,
   "metadata": {},
   "outputs": [
    {
     "name": "stdout",
     "output_type": "stream",
     "text": [
      "tf.Tensor(\n",
      "[[1 1 1 0 2 2]\n",
      " [1 1 2 0 2 2]], shape=(2, 6), dtype=int64)\n"
     ]
    }
   ],
   "source": [
    "x_args = tf.constant([[[2, 3, 4, 5, 6,7],\n",
    "                      [5, 6, 22, 4, 5,6],\n",
    "                      [1 ,2 ,4, 5, 9, 71]\n",
    "],\n",
    "[                     [2, 3, 4, 5, 6,7],\n",
    "                      [5, 6, 22, 4, 5,6],\n",
    "                      [1 ,2 ,102, 5, 9, 71]\n",
    "]\n",
    "\n",
    "])\n",
    "print(tf.argmax(x_args,1))"
   ]
  },
  {
   "cell_type": "code",
   "execution_count": 157,
   "metadata": {},
   "outputs": [
    {
     "name": "stdout",
     "output_type": "stream",
     "text": [
      "tf.Tensor([ 4  8 15], shape=(3,), dtype=int32)\n"
     ]
    }
   ],
   "source": [
    "power = tf.constant([[2, 3, 4, 5, 6,7],\n",
    "                      [5, 6, 22, 4, 5,6],\n",
    "                      [1 ,2 ,4, 5, 9, 71]\n",
    "])\n",
    "#print(tf.pow(power,2))\n",
    "print(tf.reduce_mean(power,axis=1,keepdims=False))"
   ]
  },
  {
   "cell_type": "code",
   "execution_count": 158,
   "metadata": {},
   "outputs": [
    {
     "name": "stdout",
     "output_type": "stream",
     "text": [
      "TopKV2(values=<tf.Tensor: shape=(3, 2), dtype=int32, numpy=\n",
      "array([[ 7,  6],\n",
      "       [22,  6],\n",
      "       [71,  9]], dtype=int32)>, indices=<tf.Tensor: shape=(3, 2), dtype=int32, numpy=\n",
      "array([[5, 4],\n",
      "       [2, 1],\n",
      "       [5, 4]], dtype=int32)>)\n"
     ]
    }
   ],
   "source": [
    "print(tf.math.top_k(power, k=2))"
   ]
  },
  {
   "cell_type": "code",
   "execution_count": 164,
   "metadata": {},
   "outputs": [
    {
     "data": {
      "text/plain": [
       "<tf.Tensor: shape=(2, 2), dtype=float32, numpy=\n",
       "array([[-20.8125, -41.75  ],\n",
       "       [-16.3125, 215.0625]], dtype=float32)>"
      ]
     },
     "execution_count": 164,
     "metadata": {},
     "output_type": "execute_result"
    }
   ],
   "source": [
    "x_1 = tf.constant([[-2.25,3.25],\n",
    "                   [6,23.25]])\n",
    "\n",
    "x_2 = tf.constant([[6,23.25],\n",
    "                   [-2.25,3.25]])\n",
    "tf.linalg.matmul(x_1,x_2)\n"
   ]
  },
  {
   "cell_type": "code",
   "execution_count": 169,
   "metadata": {},
   "outputs": [
    {
     "data": {
      "text/plain": [
       "<tf.Tensor: shape=(4,), dtype=int32, numpy=array([1, 2, 3, 4], dtype=int32)>"
      ]
     },
     "execution_count": 169,
     "metadata": {},
     "output_type": "execute_result"
    }
   ],
   "source": [
    "#transpose \n",
    "V = tf.constant([1, 2 ,3 ,4])\n",
    "tf.transpose(V)\n"
   ]
  },
  {
   "cell_type": "code",
   "execution_count": null,
   "metadata": {},
   "outputs": [
    {
     "name": "stdout",
     "output_type": "stream",
     "text": [
      "(3, 4)\n",
      "(5, 4)\n"
     ]
    },
    {
     "ename": "ValueError",
     "evalue": "matmul: Input operand 1 has a mismatch in its core dimension 0, with gufunc signature (n?,k),(k,m?)->(n?,m?) (size 5 is different from 4)",
     "output_type": "error",
     "traceback": [
      "\u001b[0;31m---------------------------------------------------------------------------\u001b[0m",
      "\u001b[0;31mValueError\u001b[0m                                Traceback (most recent call last)",
      "Cell \u001b[0;32mIn[178], line 14\u001b[0m\n\u001b[1;32m     11\u001b[0m \u001b[38;5;28mprint\u001b[39m(A\u001b[38;5;241m.\u001b[39mshape)\n\u001b[1;32m     12\u001b[0m \u001b[38;5;28mprint\u001b[39m(B\u001b[38;5;241m.\u001b[39mshape)\n\u001b[0;32m---> 14\u001b[0m \u001b[38;5;28mprint\u001b[39m(\u001b[43mnp\u001b[49m\u001b[38;5;241;43m.\u001b[39;49m\u001b[43mmatmul\u001b[49m\u001b[43m(\u001b[49m\u001b[43mA\u001b[49m\u001b[43m,\u001b[49m\u001b[43mB\u001b[49m\u001b[43m)\u001b[49m)\n",
      "\u001b[0;31mValueError\u001b[0m: matmul: Input operand 1 has a mismatch in its core dimension 0, with gufunc signature (n?,k),(k,m?)->(n?,m?) (size 5 is different from 4)"
     ]
    }
   ],
   "source": [
    "A = np.array([[2, 6, 5, 2],\n",
    "              [2, -2, 2, 3],\n",
    "              [1, 5, 4, 0]])\n",
    "B = np.array(\n",
    "    [[0.42379562, 0.07614612, 0.30300833, 0.02341555],\n",
    " [0.58955559, 0.78879676, 0.35213701, 0.39180098],\n",
    " [0.766514,   0.23896911, 0.97578651, 0.58668112],\n",
    " [0.51967773, 0.26416732, 0.34514883, 0.58260508],\n",
    " [0.75930903, 0.35161298, 0.3642544, 0.88772801],\n",
    " [0.75930903, 0.35161298, 0.3642544, 0.88772801]])\n",
    "\n",
    "print(A.shape)\n",
    "print(B.shape)\n",
    "\n",
    "print(np.matmul(A,B))"
   ]
  }
 ],
 "metadata": {
  "kernelspec": {
   "display_name": "Python 3",
   "language": "python",
   "name": "python3"
  },
  "language_info": {
   "codemirror_mode": {
    "name": "ipython",
    "version": 3
   },
   "file_extension": ".py",
   "mimetype": "text/x-python",
   "name": "python",
   "nbconvert_exporter": "python",
   "pygments_lexer": "ipython3",
   "version": "3.12.2"
  }
 },
 "nbformat": 4,
 "nbformat_minor": 2
}
